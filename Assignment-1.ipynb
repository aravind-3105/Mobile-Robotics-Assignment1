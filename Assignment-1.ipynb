{
 "cells": [
  {
   "cell_type": "markdown",
   "id": "95cc202c",
   "metadata": {},
   "source": [
    "# Assignment-1: Transformations and representations\n",
    "\n",
    "Team Name: Family \n",
    "\n",
    "Roll number: 2019102014 , 2019102017"
   ]
  },
  {
   "cell_type": "markdown",
   "id": "97f76802",
   "metadata": {},
   "source": [
    "# Instructions\n",
    "\n",
    "- Code must be written in Python in Jupyter Notebooks. We highly recommend using anaconda distribution or at the minimum, virtual environments for this assignment. See `Set Up` for detailed step-by-step instructions about the installation setup.\n",
    "- Save all your results in ```results/<question_number>/<sub_topic_number>/```\n",
    "- The **References** section provides you with important resources to solve the assignment.\n",
    "- For this assignment, you will be using Open3D extensively. Refer to [Open3D Documentation](http://www.open3d.org/docs/release/): you can use the in-built methods and **unless explicitly mentioned**, don't need to code from scratch for this assignment. \n",
    "- Make sure your code is modular since you may need to reuse parts for future assignments.\n",
    "- Answer the descriptive questions in your own words with context & clarity. Do not copy answers from online resources or lecture notes.\n",
    "- The **deadline** for this assignment is on 11/09/2021 at 11:55pm. Please note that there will be no extensions.\n",
    "- Plagiarism is **strictly prohibited**.\n"
   ]
  },
  {
   "cell_type": "markdown",
   "id": "e3fbfa24",
   "metadata": {},
   "source": [
    "# Submission Instructions\n",
    "\n",
    "1. Make sure your code runs without any errors after reinitializing the kernel and removing all saved variables.\n",
    "2. After completing your code and saving your results, zip the folder with name as ``Team_<team_name>_MR2021_Assignment_<assignment_number>.zip``"
   ]
  },
  {
   "cell_type": "markdown",
   "id": "b4892e7f",
   "metadata": {},
   "source": [
    "# Set Up\n",
    "\n",
    "We highly recommend using anaconda distribution or at the minimum, virtual environments for this assignment. All assignments will be python based, hence familiarising yourself with Python is essential.\n"
   ]
  },
  {
   "cell_type": "markdown",
   "id": "8c4d7157",
   "metadata": {},
   "source": [
    "## Setting up Anaconda environment (Recommended)\n",
    "\n",
    "1. Install Anaconda or Miniconda from [here](https://docs.conda.io/projects/conda/en/latest/user-guide/install/linux.html) depending on your requirements.\n",
    "2. Now simply run `conda env create -f environment.yml` in the current folder to create an environment `mr_assignment1` (`environment.yml` can be found in `misc/`).\n",
    "3. Activate it using `conda activate mr_assignment1`.\n",
    "\n",
    "## Setting up Virtual environment using venv\n",
    "\n",
    "You can also set up a virtual environment using venv\n",
    "\n",
    "1. Run `sudo apt-get install python3-venv` from command line.\n",
    "2. `python3 -m venv ~/virtual_env/mr_assignment1`. (you can set the environment path to anything)\n",
    "3. `source ~/virtual_env/mr_assignment1/bin/activate`\n",
    "4. `pip3 install -r requirements.txt` from the current folder (`requirements.txt` can be found in `misc/`)."
   ]
  },
  {
   "cell_type": "code",
   "execution_count": 19,
   "id": "33a3e3ba",
   "metadata": {},
   "outputs": [],
   "source": [
    "import open3d as o3d\n",
    "import numpy as np\n",
    "import math"
   ]
  },
  {
   "cell_type": "markdown",
   "id": "9e521c46",
   "metadata": {},
   "source": [
    "# 1. Getting started with Open3D\n",
    "\n",
    "Open3D is an open-source library that deals with 3D data, such as point clouds, mesh. We'll be using Open3D frequently as we work with point clouds. Let's start with something simple:\n",
    "\n",
    "<img src=\"misc/bunny.jpg\" alt=\"drawing\" width=\"200\"/>\n",
    "\n",
    "1. Read the Stanford Bunny file (in `data/`) given to you and visualise it using Open3D.\n",
    "2. Convert the mesh to a point cloud and change the colour of points.\n",
    "3. Set a predefined viewing angle (using Open3D) for visualization and display the axes while plotting.\n",
    "4. Scale, Transform, and Rotate the rabbit (visualise after each step).\n",
    "5. Save the point cloud as bunny.pcd."
   ]
  },
  {
   "cell_type": "code",
   "execution_count": 2,
   "id": "30b06b4e",
   "metadata": {},
   "outputs": [
    {
     "name": "stdout",
     "output_type": "stream",
     "text": [
      "TriangleMesh with 35947 points and 69451 triangles.\n"
     ]
    }
   ],
   "source": [
    "# Load the mesh file\n",
    "bunny = o3d.io.read_triangle_mesh(\"data/bunny.ply\")\n",
    "print(bunny)    "
   ]
  },
  {
   "cell_type": "code",
   "execution_count": 3,
   "id": "bba57f31-d247-4d0c-80ac-c52cac207039",
   "metadata": {},
   "outputs": [],
   "source": [
    "# Visualisation\n",
    "o3d.visualization.draw_geometries([bunny])  "
   ]
  },
  {
   "cell_type": "code",
   "execution_count": 4,
   "id": "66ae50b4-bb0f-43ff-b54f-9c8abf11207b",
   "metadata": {},
   "outputs": [
    {
     "data": {
      "text/plain": [
       "True"
      ]
     },
     "execution_count": 4,
     "metadata": {},
     "output_type": "execute_result"
    }
   ],
   "source": [
    "# Convert from mesh to point cloud\n",
    "bunny = o3d.io.read_point_cloud(\"data/bunny.ply\")\n",
    "o3d.io.write_point_cloud(\"bunnyPointCloud.pcd\", bunny)"
   ]
  },
  {
   "cell_type": "code",
   "execution_count": 5,
   "id": "af051ced-5f2c-4a3f-9c68-507cc0e5664a",
   "metadata": {},
   "outputs": [],
   "source": [
    "# Paint point cloud\n",
    "bunny.paint_uniform_color([1,0.8,0.4])\n",
    "mesh_frame = o3d.geometry.TriangleMesh.create_coordinate_frame(size=0.025, origin=[0, 0, 0])\n",
    "o3d.visualization.draw_geometries([bunny,mesh_frame])"
   ]
  },
  {
   "cell_type": "code",
   "execution_count": 6,
   "id": "22cc12b1-1409-4faf-ad7f-12b0b885553d",
   "metadata": {},
   "outputs": [],
   "source": [
    "# Set predefined viewing angle \n",
    "    # Press ctrl+c to fix viewing angle, whenever you change type ctrl+v to go bac to initial position"
   ]
  },
  {
   "cell_type": "code",
   "execution_count": 7,
   "id": "1bf919c7-92bf-4dc7-a912-6909afc0ef73",
   "metadata": {},
   "outputs": [],
   "source": [
    "#Scaling\n",
    "ScaledBunny = bunny.scale(0.1,[0,0,0])\n",
    "o3d.visualization.draw_geometries([ScaledBunny,mesh_frame])"
   ]
  },
  {
   "cell_type": "code",
   "execution_count": null,
   "id": "0a761e62-b282-4aed-80a2-26d94b1b909d",
   "metadata": {},
   "outputs": [],
   "source": [
    "#Transform\n",
    "# TransformBunny = bunny.transform()"
   ]
  },
  {
   "cell_type": "code",
   "execution_count": 18,
   "id": "bfe3ad78-da15-43b6-8688-8da24d600e50",
   "metadata": {},
   "outputs": [],
   "source": [
    "# Rotation\n",
    "R = bunny.get_rotation_matrix_from_xyz((-0.7 * np.pi, 0, -0.6 * np.pi))\n",
    "RotatedBunny = bunny.rotate(R,center=(0,0,0))\n",
    "o3d.visualization.draw_geometries([RotatedBunny,mesh_frame])"
   ]
  },
  {
   "cell_type": "markdown",
   "id": "0cbb254f",
   "metadata": {},
   "source": [
    "# 2. Transformations and representations"
   ]
  },
  {
   "cell_type": "markdown",
   "id": "f5cb94b8",
   "metadata": {},
   "source": [
    "## a) Euler angles\n",
    "1. Write a function that returns a rotation matrix given the angles $\\alpha$, $\\beta$, and $\\gamma$ in radians (X-Y-Z)\n",
    "\n",
    "2. Solve for angles using ```fsolve from scipy``` for three initializations of your choice and compare.\n",
    "$$M(\\alpha , \\beta ,\\gamma)=\\left[\\begin{array}{rrr}0.26200263 & -0.19674724 & 0.944799 \\\\0.21984631 & 0.96542533 & 0.14007684 \\\\\n",
    "    -0.93969262 & 0.17101007 & 0.29619813\\end{array}\\right] \n",
    "$$\n",
    "\n",
    "$$N(\\alpha , \\beta ,\\gamma)=\\left[\\begin{array}{rrr}0 & -0.173648178 &  0.984807753 \\\\0 & 0.984807753 & 0.173648178 \\\\\n",
    "    -1 & 0 & 0\\end{array}\\right] \n",
    "$$\n",
    "\n",
    "3. What is a Gimbal lock? \n",
    "\n",
    "4. Show an example where a Gimbal lock occurs and visualize the Gimbal lock on the given bunny point cloud. You have to show the above by **animation** (cube rotating along each axis one by one).\n",
    "    - *Hint: Use Open3D's non-blocking visualization and discretize the rotation to simulate the animation. For example, if you want to rotate by $30^{\\circ}$ around a particular axis, do in increments of $5^{\\circ}$ 6 times to make it look like an animation.*\n"
   ]
  },
  {
   "cell_type": "code",
   "execution_count": 34,
   "id": "08d8648f",
   "metadata": {},
   "outputs": [
    {
     "name": "stdout",
     "output_type": "stream",
     "text": [
      "[[0.5600192332702093, 0.1617354438596192, 0.8125392941679676], [0.008975412592571912, 0.9795176023868125, -0.20115841663520698], [-0.8284309870690738, 0.1199454576627326, 0.5470970543238536]]\n"
     ]
    }
   ],
   "source": [
    "#Recheck x,y,z \n",
    "def XYZtoRotationMatrix(a,b,g):\n",
    "    cosA = math.cos(a)\n",
    "    cosB = math.cos(b)\n",
    "    cosG = math.cos(g)\n",
    "    sinA = math.sin(a)\n",
    "    sinB = math.sin(b)\n",
    "    sinG = math.sin(g)\n",
    "    \n",
    "    cAcB = cosA * cosB\n",
    "    cBcG = cosB * cosG\n",
    "    cAcG = cosA *cosG \n",
    "    cAsG = cosA * sinG\n",
    "    cBsG = cosB * sinG\n",
    "    sBsG = sinB * sinG\n",
    "    sAsG = sinA * sinG\n",
    "    sAcB = sinA * cosB\n",
    "    sBcG = sinB * cosG\n",
    "    sAcG = sinA * cosG\n",
    "    \n",
    "    \n",
    "    rotationMatrix = [[cAcB  , ((cosA * sBsG) - sAcG), ((cosA * sBcG) + sAsG)],\n",
    "                      [sAcB  , ((sinA * sBsG) + cAcG), ((sinA * sBcG) - cAsG)],\n",
    "                      [-sinB , cBsG , cBcG]]\n",
    "    return rotationMatrix\n",
    "\n",
    "print(XYZtoRotationMatrix(0.0160256,0.9763005,0.2158251)) "
   ]
  },
  {
   "cell_type": "markdown",
   "id": "413a4903",
   "metadata": {},
   "source": [
    "## b) Quaternions\n",
    "\n",
    "1. What makes Quaternions popular in graphics? \n",
    "2. Convert a rotation matrix to quaternion and vice versa. Do not use inbuilt libraries for this question.\n",
    "3. Perform matrix multiplication of two $\\mathcal{R}_{3 \\times 3}$ rotation matrices and perform the same transformation in the quaternion space. Verify if the final transformation obtained in both the cases are the same.\n",
    "4. Try to interpolate any 3D model (cube / bunny / not sphere obviously!!) between two rotation matrices and visualize!\n",
    "\n",
    "The above questions require you to **code your own functions** and **only verify** using inbuilt functions."
   ]
  },
  {
   "cell_type": "code",
   "execution_count": null,
   "id": "f4b2b792",
   "metadata": {},
   "outputs": [],
   "source": []
  },
  {
   "cell_type": "markdown",
   "id": "ba8f5e6e",
   "metadata": {},
   "source": [
    "## c) Exponential maps (Bonus)\n",
    "\n",
    "1. What is the idea behind exponential map representation of rotation matrices?\n",
    "2. Perform matrix exponentiation and obtain the rotation matrix to rotate a vector $P$ around $\\omega$ for $\\theta$ seconds.\n",
    "$$\n",
    "\\omega = \\begin{bmatrix}2 \\\\ 1 \\\\ 15 \\end{bmatrix}\n",
    "$$\n",
    "\n",
    "$$\n",
    "\\theta = 4.1364\n",
    "$$\n",
    "\n",
    "3. Compute the logarithmic map (SO(3) to so(3)) of the rotation matrix to obtain the rotation vector and the angle of rotation\n",
    "$$\n",
    "\\begin{bmatrix}\n",
    "0.1 &  -0.9487 & 0.3 \\\\\n",
    "0.9487 & 0.  & -0.3162 \\\\\n",
    "0.3   &  0.3162  & 0.9 \n",
    "\\end{bmatrix}\n",
    "$$\n",
    "You can use inbuilt libraries **only to verify** your results."
   ]
  },
  {
   "cell_type": "code",
   "execution_count": null,
   "id": "44ac46e5",
   "metadata": {},
   "outputs": [],
   "source": []
  },
  {
   "cell_type": "markdown",
   "id": "c70e6a54",
   "metadata": {},
   "source": [
    "# 3. Data representations"
   ]
  },
  {
   "cell_type": "markdown",
   "id": "82ead278",
   "metadata": {},
   "source": [
    "## a) Octomaps\n",
    "\n",
    "1. Why is an Octomap memory efficient?\n",
    "2. When do we update an Octomap and why?\n",
    "3. When would you likely use an octomap instead of a point cloud?\n",
    " "
   ]
  },
  {
   "cell_type": "code",
   "execution_count": null,
   "id": "3b446b92",
   "metadata": {},
   "outputs": [],
   "source": []
  },
  {
   "cell_type": "markdown",
   "id": "a0e668bf",
   "metadata": {},
   "source": [
    "## b) Signed Distance Functions\n",
    "\n",
    "1. How do we determine object surfaces using SDF?\n",
    "2. How do we aggregate views from multiple cameras? (just a general overview is fine)\n",
    "3. Which preserves details better? Voxels or SDF? Why?\n",
    "4. What’s an advantage of SDF over a point cloud?\n"
   ]
  },
  {
   "cell_type": "code",
   "execution_count": null,
   "id": "e89755d7",
   "metadata": {},
   "outputs": [],
   "source": []
  },
  {
   "cell_type": "markdown",
   "id": "42b7827d",
   "metadata": {},
   "source": [
    "# References and Resources\n",
    "\n",
    "1. Gimbal locks and quaternions: https://youtu.be/YF5ZUlKxSgE\n",
    "2. Exponential map: \n",
    "    1. 3 Blue 1 Brown: https://youtu.be/O85OWBJ2ayo\n",
    "    2. Northwestern Robotics: https://youtu.be/v_KBHaG0mas\n",
    "3. Bunny ply is taken from: http://graphics.im.ntu.edu.tw/~robin/courses/cg03/model/"
   ]
  }
 ],
 "metadata": {
  "kernelspec": {
   "display_name": "Python 3",
   "language": "python",
   "name": "python3"
  },
  "language_info": {
   "codemirror_mode": {
    "name": "ipython",
    "version": 3
   },
   "file_extension": ".py",
   "mimetype": "text/x-python",
   "name": "python",
   "nbconvert_exporter": "python",
   "pygments_lexer": "ipython3",
   "version": "3.6.9"
  }
 },
 "nbformat": 4,
 "nbformat_minor": 5
}
