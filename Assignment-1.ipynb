{
 "cells": [
  {
   "cell_type": "markdown",
   "id": "95cc202c",
   "metadata": {},
   "source": [
    "# Assignment-1: Transformations and representations\n",
    "\n",
    "Team Name: Family \n",
    "\n",
    "Roll number: 2019102014 , 2019102017"
   ]
  },
  {
   "cell_type": "markdown",
   "id": "97f76802",
   "metadata": {},
   "source": [
    "# Instructions\n",
    "\n",
    "- Code must be written in Python in Jupyter Notebooks. We highly recommend using anaconda distribution or at the minimum, virtual environments for this assignment. See `Set Up` for detailed step-by-step instructions about the installation setup.\n",
    "- Save all your results in ```results/<question_number>/<sub_topic_number>/```\n",
    "- The **References** section provides you with important resources to solve the assignment.\n",
    "- For this assignment, you will be using Open3D extensively. Refer to [Open3D Documentation](http://www.open3d.org/docs/release/): you can use the in-built methods and **unless explicitly mentioned**, don't need to code from scratch for this assignment. \n",
    "- Make sure your code is modular since you may need to reuse parts for future assignments.\n",
    "- Answer the descriptive questions in your own words with context & clarity. Do not copy answers from online resources or lecture notes.\n",
    "- The **deadline** for this assignment is on 11/09/2021 at 11:55pm. Please note that there will be no extensions.\n",
    "- Plagiarism is **strictly prohibited**.\n"
   ]
  },
  {
   "cell_type": "markdown",
   "id": "e3fbfa24",
   "metadata": {},
   "source": [
    "# Submission Instructions\n",
    "\n",
    "1. Make sure your code runs without any errors after reinitializing the kernel and removing all saved variables.\n",
    "2. After completing your code and saving your results, zip the folder with name as ``Team_<team_name>_MR2021_Assignment_<assignment_number>.zip``"
   ]
  },
  {
   "cell_type": "markdown",
   "id": "b4892e7f",
   "metadata": {},
   "source": [
    "# Set Up\n",
    "\n",
    "We highly recommend using anaconda distribution or at the minimum, virtual environments for this assignment. All assignments will be python based, hence familiarising yourself with Python is essential.\n"
   ]
  },
  {
   "cell_type": "markdown",
   "id": "8c4d7157",
   "metadata": {},
   "source": [
    "## Setting up Anaconda environment (Recommended)\n",
    "\n",
    "1. Install Anaconda or Miniconda from [here](https://docs.conda.io/projects/conda/en/latest/user-guide/install/linux.html) depending on your requirements.\n",
    "2. Now simply run `conda env create -f environment.yml` in the current folder to create an environment `mr_assignment1` (`environment.yml` can be found in `misc/`).\n",
    "3. Activate it using `conda activate mr_assignment1`.\n",
    "\n",
    "## Setting up Virtual environment using venv\n",
    "\n",
    "You can also set up a virtual environment using venv\n",
    "\n",
    "1. Run `sudo apt-get install python3-venv` from command line.\n",
    "2. `python3 -m venv ~/virtual_env/mr_assignment1`. (you can set the environment path to anything)\n",
    "3. `source ~/virtual_env/mr_assignment1/bin/activate`\n",
    "4. `pip3 install -r requirements.txt` from the current folder (`requirements.txt` can be found in `misc/`)."
   ]
  },
  {
   "cell_type": "markdown",
   "id": "05c36db8-e778-45a4-83ae-3ac7d8e44648",
   "metadata": {},
   "source": [
    "# <b> Checklist\n",
    "1. \n",
    "* 1 Done\n",
    "* 2 Done\n",
    "* 3 Done\n",
    "* 4 Done\n",
    "* 5 Done\n",
    "    \n",
    "    \n",
    "2. <br>\n",
    "a. <br>\n",
    "* 1 Done\n",
    "* 2 Done\n",
    "* 3 Done\n",
    "* 4 Done\n",
    "    \n",
    "b. <br>\n",
    "* 1 Done\n",
    "* 2 Done\n",
    "* 3 Done\n",
    "* 4 Done\n",
    "    \n",
    "c. <br>\n",
    "* 1 Done\n",
    "* 2 Done\n",
    "* 3 Done\n",
    "    \n",
    "    \n",
    "3. <br>\n",
    "a. <br>\n",
    "* 1 Done\n",
    "* 2 Done\n",
    "* 3 Done\n",
    "    \n",
    "b. <br>\n",
    "* 1 Done\n",
    "* 2 \n",
    "* 3 \n",
    "* 4\n",
    "    \n"
   ]
  },
  {
   "cell_type": "code",
   "execution_count": 37,
   "id": "33a3e3ba",
   "metadata": {},
   "outputs": [],
   "source": [
    "import open3d as o3d\n",
    "import numpy as np\n",
    "import math\n",
    "import copy\n",
    "import pytorch3d.transforms as pt"
   ]
  },
  {
   "cell_type": "markdown",
   "id": "9e521c46",
   "metadata": {},
   "source": [
    "# 1. Getting started with Open3D\n",
    "\n",
    "Open3D is an open-source library that deals with 3D data, such as point clouds, mesh. We'll be using Open3D frequently as we work with point clouds. Let's start with something simple:\n",
    "\n",
    "<img src=\"misc/bunny.jpg\" alt=\"drawing\" width=\"200\"/>\n",
    "\n",
    "1. Read the Stanford Bunny file (in `data/`) given to you and visualise it using Open3D.\n",
    "2. Convert the mesh to a point cloud and change the colour of points.\n",
    "3. Set a predefined viewing angle (using Open3D) for visualization and display the axes while plotting.\n",
    "4. Scale, Transform, and Rotate the rabbit (visualise after each step).\n",
    "5. Save the point cloud as bunny.pcd."
   ]
  },
  {
   "cell_type": "code",
   "execution_count": 2,
   "id": "30b06b4e",
   "metadata": {},
   "outputs": [
    {
     "name": "stdout",
     "output_type": "stream",
     "text": [
      "TriangleMesh with 35947 points and 69451 triangles.\n"
     ]
    }
   ],
   "source": [
    "# Load the mesh file\n",
    "bunny = o3d.io.read_triangle_mesh(\"data/bunny.ply\")\n",
    "print(bunny)    "
   ]
  },
  {
   "cell_type": "code",
   "execution_count": 3,
   "id": "bba57f31-d247-4d0c-80ac-c52cac207039",
   "metadata": {},
   "outputs": [],
   "source": [
    "# Visualisation\n",
    "o3d.visualization.draw_geometries([bunny])  "
   ]
  },
  {
   "cell_type": "code",
   "execution_count": 4,
   "id": "66ae50b4-bb0f-43ff-b54f-9c8abf11207b",
   "metadata": {},
   "outputs": [
    {
     "data": {
      "text/plain": [
       "True"
      ]
     },
     "execution_count": 4,
     "metadata": {},
     "output_type": "execute_result"
    }
   ],
   "source": [
    "# Convert from mesh to point cloud\n",
    "bunny = o3d.io.read_point_cloud(\"data/bunny.ply\")\n",
    "o3d.io.write_point_cloud(\"bunnyPointCloud.pcd\", bunny)"
   ]
  },
  {
   "cell_type": "code",
   "execution_count": 5,
   "id": "af051ced-5f2c-4a3f-9c68-507cc0e5664a",
   "metadata": {},
   "outputs": [],
   "source": [
    "# Paint point cloud\n",
    "bunny.paint_uniform_color([1,0.8,0.4])\n",
    "mesh_frame = o3d.geometry.TriangleMesh.create_coordinate_frame(size=0.025, origin=[0, 0, 0])\n",
    "o3d.visualization.draw_geometries([bunny,mesh_frame])"
   ]
  },
  {
   "cell_type": "code",
   "execution_count": 6,
   "id": "22cc12b1-1409-4faf-ad7f-12b0b885553d",
   "metadata": {},
   "outputs": [],
   "source": [
    "# Set predefined viewing angle \n",
    "    # Press ctrl+c to fix viewing angle, whenever you change type ctrl+v to go bac to initial position\n",
    "o3d.visualization.draw_geometries([bunny,mesh_frame],\n",
    "            front = [ 0.48458812719692307, 0.62044224539450676, 0.61662449441260558 ],\n",
    "            lookat = [ -0.016840399999999998, 0.092910499999999993, -0.0015369499999999987 ],\n",
    "            up = [ 0.50141338827227588, 0.38059744472519991, -0.77700077164052073 ],\n",
    "            zoom = 0.69999999999999996)"
   ]
  },
  {
   "cell_type": "code",
   "execution_count": 7,
   "id": "1bf919c7-92bf-4dc7-a912-6909afc0ef73",
   "metadata": {},
   "outputs": [],
   "source": [
    "#Scaling\n",
    "ScaledBunny = copy.deepcopy(bunny).scale(0.1,[0,0,0])\n",
    "o3d.visualization.draw_geometries([ScaledBunny,mesh_frame])"
   ]
  },
  {
   "cell_type": "code",
   "execution_count": 8,
   "id": "0a761e62-b282-4aed-80a2-26d94b1b909d",
   "metadata": {},
   "outputs": [],
   "source": [
    "#Transform\n",
    "T = np.eye(4)\n",
    "R = bunny.get_rotation_matrix_from_xyz((-0.7 * np.pi, 0, -0.6 * np.pi))\n",
    "t = np.array([0.1,0.2,0])\n",
    "T[:3,:3] = R\n",
    "T[:3,3] = t\n",
    "TransformedBunny = copy.deepcopy(bunny).transform(T)\n",
    "o3d.visualization.draw_geometries([TransformedBunny,mesh_frame])"
   ]
  },
  {
   "cell_type": "code",
   "execution_count": 9,
   "id": "bfe3ad78-da15-43b6-8688-8da24d600e50",
   "metadata": {},
   "outputs": [],
   "source": [
    "# Rotation\n",
    "R = bunny.get_rotation_matrix_from_xyz((-0.7 * np.pi, 0, -0.6 * np.pi))\n",
    "RotatedBunny = copy.deepcopy(bunny).rotate(R,center=(0,0,0))\n",
    "o3d.visualization.draw_geometries([RotatedBunny,mesh_frame])"
   ]
  },
  {
   "cell_type": "markdown",
   "id": "0cbb254f",
   "metadata": {},
   "source": [
    "# 2. Transformations and representations"
   ]
  },
  {
   "cell_type": "markdown",
   "id": "f5cb94b8",
   "metadata": {},
   "source": [
    "## a) Euler angles\n",
    "1. Write a function that returns a rotation matrix given the angles $\\alpha$, $\\beta$, and $\\gamma$ in radians (X-Y-Z)\n",
    "\n",
    "2. Solve for angles using ```fsolve from scipy``` for three initializations of your choice and compare.\n",
    "$$M(\\alpha , \\beta ,\\gamma)=\\left[\\begin{array}{rrr}0.26200263 & -0.19674724 & 0.944799 \\\\0.21984631 & 0.96542533 & 0.14007684 \\\\\n",
    "    -0.93969262 & 0.17101007 & 0.29619813\\end{array}\\right] \n",
    "$$\n",
    "\n",
    "$$N(\\alpha , \\beta ,\\gamma)=\\left[\\begin{array}{rrr}0 & -0.173648178 &  0.984807753 \\\\0 & 0.984807753 & 0.173648178 \\\\\n",
    "    -1 & 0 & 0\\end{array}\\right] \n",
    "$$\n",
    "\n",
    "3. What is a Gimbal lock? \n",
    "\n",
    "4. Show an example where a Gimbal lock occurs and visualize the Gimbal lock on the given bunny point cloud. You have to show the above by **animation** (cube rotating along each axis one by one).\n",
    "    - *Hint: Use Open3D's non-blocking visualization and discretize the rotation to simulate the animation. For example, if you want to rotate by $30^{\\circ}$ around a particular axis, do in increments of $5^{\\circ}$ 6 times to make it look like an animation.*\n"
   ]
  },
  {
   "cell_type": "markdown",
   "id": "da7f23da-38c6-4efd-b8ed-1fd73553e9ef",
   "metadata": {},
   "source": [
    "### Answers\n",
    "3. Gimbal lock is when there is 1-DOF loss in a 3D mechanism  due to 2 out of 3 axes driven into parallel configuration. Due to the parallel configuration, there isnt any rotation along about one of the axis"
   ]
  },
  {
   "cell_type": "code",
   "execution_count": 10,
   "id": "08d8648f",
   "metadata": {},
   "outputs": [],
   "source": [
    "def XYZtoRotationMatrix(a,b,g):\n",
    "    cosA = math.cos(a)\n",
    "    cosB = math.cos(b)\n",
    "    cosG = math.cos(g)\n",
    "    sinA = math.sin(a)\n",
    "    sinB = math.sin(b)\n",
    "    sinG = math.sin(g)\n",
    "    \n",
    "    \n",
    "#     rotationMatrix = [[cBcG , ((sinA * sBcG) + cAsG), ((-cosA * sBcG) + sAsG)],\n",
    "#                       [-cBsG  , ((-sinA * sBsG) + cAcG), ((cosA * sBsG) + sAcG)],\n",
    "#                       [sinB , -sAcB , cAcB]]\n",
    "    rotationMatrix = [[cosB * cosG, -cosB * sinG, sinB],\n",
    "                      [((sinA * sinB * cosG) + (cosA * sinG)) , ((-sinA * sinB * sinG) + (cosA*cosG)), (-sinA*cosB)],\n",
    "                      [((-cosA * sinB * cosG) + sinA * sinG) ,((cosA * sinB * sinG) + (sinA*cosG) ) , (cosA * cosB) ]]\n",
    "    return rotationMatrix"
   ]
  },
  {
   "cell_type": "code",
   "execution_count": 11,
   "id": "ad57a185",
   "metadata": {},
   "outputs": [
    {
     "name": "stderr",
     "output_type": "stream",
     "text": [
      "/home/wandra/Documents/SEM-5/DIP/DIP/lib/python3.6/site-packages/scipy/optimize/minpack.py:175: RuntimeWarning: The iteration is not making good progress, as measured by the \n",
      "  improvement from the last ten iterations.\n",
      "  warnings.warn(msg, RuntimeWarning)\n"
     ]
    }
   ],
   "source": [
    "from scipy.optimize import fsolve\n",
    "\n",
    "M = np.array([[0.26200263,-0.19674724,0.944799],[0.21984631,0.96542533,0.14007684],[-0.93969262,0.17101007,0.29619813]])\n",
    "N = np.array([[0,-0.173648178,0.984807753],[0,0.984807753,0.173648178],[-1,0,0]])\n",
    "\n",
    "#initialize 3 points\n",
    "a = (1,0,0)\n",
    "b = (0,1,0)\n",
    "c = (0,0,1)\n",
    "\n",
    "ahat = np.dot(M,np.array(a))\n",
    "bhat = np.dot(M,np.array(b))\n",
    "chat = np.dot(M,np.array(c))\n",
    "\n",
    "def EulerOptimize(angles):\n",
    "    R = XYZtoRotationMatrix(*angles)\n",
    "    acap = np.dot(np.array(R),a)\n",
    "    bcap = np.dot(np.array(R),b)\n",
    "    ccap = np.dot(np.array(R),c)\n",
    "    \n",
    "    return [np.linalg.norm(acap-ahat),np.linalg.norm(bcap-bhat),np.linalg.norm(ccap-chat)]\n",
    "M_euler = fsolve(EulerOptimize,[math.pi/3,math.pi/4,0.1])\n",
    "# x0 = (0,0,0) #initialization\n",
    "# R0 = XYZtoRotationMatrix(*x0)\n",
    "# np.array(R0)\n",
    "# R0 = np.reshape(R0,(9,))\n",
    "# M = np.array([[0.26200263,-0.19674724,0.944799],[0.21984631,0.96542533,-0.93969262],[0.14007684,0.17101007,0.29619813]])\n",
    "# M= np.reshape(M,(9,))\n",
    "# def EulerOptimize(R):\n",
    "#     return M-R"
   ]
  },
  {
   "cell_type": "code",
   "execution_count": 12,
   "id": "e6c96fe5",
   "metadata": {},
   "outputs": [],
   "source": [
    "#initialize 3 points\n",
    "ahat = np.dot(N,np.array(a))\n",
    "bhat = np.dot(N,np.array(b))\n",
    "chat = np.dot(N,np.array(c))\n",
    "\n",
    "def EulerOptimize(angles):\n",
    "    R = XYZtoRotationMatrix(*angles)\n",
    "    acap = np.dot(np.array(R),a)\n",
    "    bcap = np.dot(np.array(R),b)\n",
    "    ccap = np.dot(np.array(R),c)\n",
    "    return [np.linalg.norm(acap-ahat),np.linalg.norm(bcap-bhat),np.linalg.norm(ccap-chat)]\n",
    "\n",
    "N_euler = fsolve(EulerOptimize,[math.pi/3,math.pi/4,0.1])"
   ]
  },
  {
   "cell_type": "code",
   "execution_count": 27,
   "id": "d76f25be-0937-47d7-a5ed-b197d1055c5b",
   "metadata": {},
   "outputs": [
    {
     "name": "stdout",
     "output_type": "stream",
     "text": [
      "[-0.44174663  1.23698059  0.64409996]\n",
      "[ 1.57079633  1.74532925 -1.57079633]\n"
     ]
    }
   ],
   "source": [
    "print(M_euler)\n",
    "print(N_euler)"
   ]
  },
  {
   "cell_type": "code",
   "execution_count": 13,
   "id": "b396c16c",
   "metadata": {},
   "outputs": [
    {
     "name": "stdout",
     "output_type": "stream",
     "text": [
      "[[ 0.26200263 -0.19674724  0.944799  ]\n",
      " [ 0.21984631  0.96542534  0.14007684]\n",
      " [-0.93969262  0.17101007  0.29619813]]\n",
      "[[-0.         -0.17364818  0.98480775]\n",
      " [ 0.          0.98480775  0.17364818]\n",
      " [-1.          0.          0.        ]]\n"
     ]
    }
   ],
   "source": [
    "#testing purposes\n",
    "\n",
    "#R = M\n",
    "# sy = math.sqrt(R[0,0] * R[0,0] +  R[1,0] * R[1,0])\n",
    "# singular = sy < 1e-6\n",
    "# if  not singular :\n",
    "#     x = math.atan2(R[2,1] , R[2,2])\n",
    "#     y = math.atan2(-R[2,0], sy)\n",
    "#     z = math.atan2(R[1,0], R[0,0])\n",
    "# else :\n",
    "#     x = math.atan2(-R[1,2], R[1,1])\n",
    "#     y = math.atan2(-R[2,0], sy)\n",
    "#     z = 0\n",
    "# [x,y,z]\n",
    "#\n",
    "def euler_to_rotMat(roll, pitch, yaw):\n",
    "    Rz_yaw = np.array([\n",
    "        [np.cos(yaw), -np.sin(yaw), 0],\n",
    "        [np.sin(yaw),  np.cos(yaw), 0],\n",
    "        [          0,            0, 1]])\n",
    "    Ry_pitch = np.array([\n",
    "        [ np.cos(pitch), 0, np.sin(pitch)],\n",
    "        [             0, 1,             0],\n",
    "        [-np.sin(pitch), 0, np.cos(pitch)]])\n",
    "    Rx_roll = np.array([\n",
    "        [1,            0,             0],\n",
    "        [0, np.cos(roll), -np.sin(roll)],\n",
    "        [0, np.sin(roll),  np.cos(roll)]])\n",
    "    # R = RzRyRx\n",
    "    rotMat = np.dot(Rx_roll, np.dot(Ry_pitch, Rz_yaw)).round(8)\n",
    "    return rotMat\n",
    "\n",
    "# roll = 1.57079633\n",
    "# pitch = 1.74532925\n",
    "# yaw = -1.57079633\n",
    "rotM = euler_to_rotMat(M_euler[0],M_euler[1],M_euler[2])\n",
    "rotN = euler_to_rotMat(N_euler[0],N_euler[1],N_euler[2])\n",
    "\n",
    "print(rotM)\n",
    "print(rotN)"
   ]
  },
  {
   "cell_type": "code",
   "execution_count": 14,
   "id": "5c9679f8",
   "metadata": {},
   "outputs": [],
   "source": [
    "#animation code\n",
    "\n",
    "\n",
    "bunny1 = o3d.io.read_triangle_mesh(\"data/bunny.ply\")\n",
    "bunny2 = o3d.io.read_triangle_mesh(\"data/bunny.ply\")\n",
    "\n",
    "mesh_frame = o3d.geometry.TriangleMesh.create_coordinate_frame(size=0.025, origin=[0, 0, 0])\n",
    "\n",
    "vis = o3d.visualization.Visualizer()\n",
    "vis.create_window()\n",
    "vis.add_geometry(bunny1)\n",
    "vis.add_geometry(bunny2)\n",
    "vis.add_geometry(mesh_frame)\n",
    "\n",
    "#rotate bunny by alpha degrees around y axis\n",
    "alpha = math.pi/10\n",
    "beta = math.pi/2\n",
    "gamma = 9*math.pi/10\n",
    "\n",
    "\n",
    "icp_iteration = 240 #increase this number for slower animation\n",
    "\n",
    "#rotate about x 30 degrees for bunny1 and 60 degrees for bunny2\n",
    "R1 = XYZtoRotationMatrix(alpha/icp_iteration,0,0)\n",
    "R2 = XYZtoRotationMatrix(gamma/icp_iteration,0,0)\n",
    "\n",
    "for i in range(icp_iteration):\n",
    "    bunny1.rotate(R1,center=(0,0,0))\n",
    "    bunny2.rotate(R2,center=(0,0,0))\n",
    "    vis.update_geometry(bunny1)\n",
    "    vis.update_geometry(bunny2)\n",
    "    vis.poll_events()\n",
    "    vis.update_renderer()\n",
    "    \n",
    "#rotate about y 90 degrees for both bunny1 and bunny2\n",
    "R1 = XYZtoRotationMatrix(0,beta/icp_iteration,0)\n",
    "R2 = XYZtoRotationMatrix(0,beta/icp_iteration,0)\n",
    "for i in range(icp_iteration):\n",
    "    bunny1.rotate(R1,center=(0,0,0))\n",
    "    bunny2.rotate(R2,center=(0,0,0))\n",
    "    vis.update_geometry(bunny1)\n",
    "    vis.update_geometry(bunny2)\n",
    "    vis.poll_events()\n",
    "    vis.update_renderer()\n",
    "\n",
    "    \n",
    "#rotate about z 60 degrees for bunny1 and 30 degrees for bunny2\n",
    "R1 = XYZtoRotationMatrix(0,0,gamma/icp_iteration)\n",
    "R2 = XYZtoRotationMatrix(0,0,alpha/icp_iteration)\n",
    "for i in range(icp_iteration):\n",
    "    bunny1.rotate(R1,center=(0,0,0))\n",
    "    bunny2.rotate(R2,center=(0,0,0))\n",
    "    vis.update_geometry(bunny1)\n",
    "    vis.update_geometry(bunny2)\n",
    "    vis.poll_events()\n",
    "    vis.update_renderer()\n",
    "vis.destroy_window()"
   ]
  },
  {
   "cell_type": "markdown",
   "id": "413a4903",
   "metadata": {},
   "source": [
    "## b) Quaternions\n",
    "\n",
    "1. What makes Quaternions popular in graphics? \n",
    "2. Convert a rotation matrix to quaternion and vice versa. Do not use inbuilt libraries for this question.\n",
    "3. Perform matrix multiplication of two $\\mathcal{R}_{3 \\times 3}$ rotation matrices and perform the same transformation in the quaternion space. Verify if the final transformation obtained in both the cases are the same.\n",
    "4. Try to interpolate any 3D model (cube / bunny / not sphere obviously!!) between two rotation matrices and visualize!\n",
    "\n",
    "The above questions require you to **code your own functions** and **only verify** using inbuilt functions."
   ]
  },
  {
   "cell_type": "markdown",
   "id": "55188cf1-e207-4685-9d31-6b5f756f191c",
   "metadata": {},
   "source": [
    "### Answers\n",
    "1. Interpolation is easily possible in quternions which is desirable in graphics. All transformations are orthonormal. It can also help in rotation about multiple axis at a time instead of doing composite matrix rotations which could lead to gimbal lock"
   ]
  },
  {
   "cell_type": "code",
   "execution_count": 34,
   "id": "f4b2b792",
   "metadata": {},
   "outputs": [],
   "source": [
    "def QtoR(q0,q1,q2,q3):\n",
    "    # q = q0 + q1i + q2j + q3k\n",
    "    a11 = (2 * q0 * q0) + (2 * q1 * q1) - 1\n",
    "    a12 = (2 * q1 * q2) - (2 * q0 * q3)\n",
    "    a13 = (2 * q1 * q3) + (2 * q0 * q2)\n",
    "    \n",
    "    a21 = (2 * q1 * q2) + (2 * q0 * q3)\n",
    "    a22 = (2 * q0 * q0) - (2 * q2 * q2) - 1\n",
    "    a23 = (2 * q2 * q3) - (2 * q0 * q1)\n",
    "    \n",
    "    a31 = (2 * q1 * q3) - (2 * q0 * q2)\n",
    "    a32 = (2 * q2 * q3) + (2 * q0 * q1)\n",
    "    a33 = (2 * q0 * q0) - (2 * q3 * q3) - 1\n",
    "    Rmatrix = [[a11, a12, a13],\n",
    "               [a21, a22, a23],\n",
    "               [a31, a32, a33]]\n",
    "    return Rmatrix"
   ]
  },
  {
   "cell_type": "code",
   "execution_count": 35,
   "id": "2fbef410-3168-4a03-9099-0476a92f2490",
   "metadata": {},
   "outputs": [
    {
     "name": "stdout",
     "output_type": "stream",
     "text": [
      "[[1, 0, 0], [0, -1, 0], [0, 0, -1]]\n"
     ]
    }
   ],
   "source": [
    "print(QtoR(0,1,0,0))"
   ]
  },
  {
   "cell_type": "code",
   "execution_count": 17,
   "id": "bdf0fcb6-ff86-4384-83a1-6c9dc78e7d09",
   "metadata": {},
   "outputs": [],
   "source": [
    "def RtoQ(R):\n",
    "    traceR = R[0][0] + R[1][1] + R[2][2]\n",
    "    absq0 = math.sqrt((traceR + 1)/4)\n",
    "    absq1 = math.sqrt((R[0][0] - R[1][1] - R[2][2] + 1)/4)\n",
    "    absq2 = math.sqrt((-R[0][0] + R[1][1] - R[2][2] + 1)/4)\n",
    "    absq3 = math.sqrt((-R[0][0] - R[1][1] + R[2][2] + 1)/4)\n",
    "    maxQ = max(absq0,absq1,absq2,absq3)\n",
    "    if maxQ == absq0:\n",
    "        q0 = absq0\n",
    "        q1 = (R[2][1] - R[1][2])/(4 * q0)\n",
    "        q2 = (R[0][2] - R[2][0])/(4 * q0)\n",
    "        q3 = (R[1][0] - R[0][1])/(4 * q0)\n",
    "    elif maxQ == absq1:\n",
    "        q1 = absq1\n",
    "        q0 = (R[2][1] - R[1][2])/(4 * q1)\n",
    "        q2 = (R[0][1] + R[1][0])/(4 * q1)\n",
    "        q3 = (R[0][2] + R[2][0])/(4 * q1)\n",
    "    elif maxQ == absq2:\n",
    "        q2 = absq2\n",
    "        q0 = (R[0][2] - R[2][0])/(4 * q2)\n",
    "        q1 = (R[0][1] + R[1][0])/(4 * q2)\n",
    "        q3 = (R[1][2] + R[2][1])/(4 * q2)\n",
    "    else:\n",
    "        q3 = absq3\n",
    "        q0 = (R[1][0] - R[0][1])/(4 * q3)\n",
    "        q1 = (R[0][2] + R[2][0])/(4 * q3)\n",
    "        q2 = (R[1][2] + R[2][1])/(4 * q3)\n",
    "     \n",
    "    q = [q0,q1,q2,q3]\n",
    "    return q"
   ]
  },
  {
   "cell_type": "code",
   "execution_count": 41,
   "id": "2d1c5407-33ee-4bcb-bfec-0dc99243d78a",
   "metadata": {},
   "outputs": [
    {
     "name": "stdout",
     "output_type": "stream",
     "text": [
      "[0.7071067811865476, 0.0, 0.0, 0.7071067811865475]\n"
     ]
    }
   ],
   "source": [
    "R = [[0, -1, 0], \n",
    "     [1, 0, 0], \n",
    "     [0, 0, 1]]\n",
    "print(RtoQ(R))"
   ]
  },
  {
   "cell_type": "code",
   "execution_count": 19,
   "id": "0c87e7d7-ffce-4f4c-8e24-1387663c292a",
   "metadata": {},
   "outputs": [
    {
     "name": "stdout",
     "output_type": "stream",
     "text": [
      "[1. 0. 0. 0.]\n",
      "[[1 0 0]\n",
      " [0 1 0]\n",
      " [0 0 1]]\n"
     ]
    }
   ],
   "source": [
    "Rx270 = [[1, 0, 0], \n",
    "         [0, 0, 1], \n",
    "         [0, -1, 0]]\n",
    "nRx180 = [[1, 0, 0], \n",
    "         [0, -1, 0], \n",
    "         [0, 0, -1]]\n",
    "nRx90 = [[1, 0, 0], \n",
    "         [0, 0, 1], \n",
    "         [0, -1, 0]]\n",
    "q1 = RtoQ(Rx270)\n",
    "q2 = RtoQ(nRx180)\n",
    "q3 = RtoQ(nRx90)\n",
    "q1q2 = [0,0,0,0]\n",
    "q1q2[0] = q1[0]*q2[0] - q1[1]*q2[1] - q1[2]*q2[2] - q1[3]*q2[3]\n",
    "q1q2[1] = q1[0]*q2[1] + q1[1]*q2[0] + q1[2]*q2[3] - q1[3]*q2[2]\n",
    "q1q2[2] = q1[0]*q2[2] - q1[1]*q2[3] + q1[2]*q2[0] + q1[3]*q2[1]\n",
    "q1q2[3] = q1[0]*q2[3] + q1[1]*q2[2] - q1[2]*q2[1] + q1[3]*q2[0]\n",
    "qMult = [0,0,0,0]\n",
    "qMult[0] = q1q2[0]*q3[0] - q1q2[1]*q3[1] - q1q2[2]*q3[2] - q1q2[3]*q3[3]\n",
    "qMult[1] = q1q2[0]*q3[1] + q1q2[1]*q3[0] + q1q2[2]*q3[3] - q1q2[3]*q3[2]\n",
    "qMult[2] = q1q2[0]*q3[2] - q1q2[1]*q3[3] + q1q2[2]*q3[0] + q1q2[3]*q3[1]\n",
    "qMult[3] = q1q2[0]*q3[3] + q1q2[1]*q3[2] - q1q2[2]*q3[1] + q1q2[3]*q3[0]\n",
    "qMult = np.array(qMult).round(10)\n",
    "\n",
    "Rmult = [[0, 0, 0],\n",
    "        [0, 0, 0],\n",
    "        [0, 0, 0]]\n",
    "Rmult = np.dot(np.dot(Rx270, nRx180),nRx90)\n",
    "print(qMult)\n",
    "print(Rmult)"
   ]
  },
  {
   "cell_type": "code",
   "execution_count": 20,
   "id": "3174a67a-91a1-4dfc-8b2f-60ce6b65bd93",
   "metadata": {},
   "outputs": [
    {
     "name": "stdout",
     "output_type": "stream",
     "text": [
      "[0.7071067811865476, -0.7071067811865475, 0.0, 0.0]\n",
      "[0.0, 1.0, 0.0, 0.0]\n",
      "[0.7071067811865476, -0.7071067811865475, 0.0, 0.0]\n"
     ]
    }
   ],
   "source": [
    "print(q1)\n",
    "print(q2)\n",
    "print(q3)"
   ]
  },
  {
   "cell_type": "code",
   "execution_count": 33,
   "id": "debc2221-86cf-4933-b0aa-f00f61eb9b85",
   "metadata": {},
   "outputs": [],
   "source": [
    "# qR1 = np.array(QtoR(q1[0],q1[1],q1[2],q1[3])).round(10)\n",
    "# qR2 = np.array(QtoR(q2[0],q2[1],q2[2],q2[3])).round(10)\n",
    "# qR3 = np.array(QtoR(q3[0],q3[1],q3[2],q3[3])).round(10)\n",
    "# # print(QtoR(q1[0],q1[1],q1[2],q1[3]))\n",
    "# # print(QtoR(q2[0],q2[1],q2[2],q2[3]))\n",
    "# # print(QtoR(q3[0],q3[1],q3[2],q3[3]))\n",
    "# print(qR1)\n",
    "# print(qR2)\n",
    "# print(qR3)\n"
   ]
  },
  {
   "cell_type": "code",
   "execution_count": 22,
   "id": "b2b62c2b-1718-44e9-817c-aeb630b891cb",
   "metadata": {
    "scrolled": true
   },
   "outputs": [
    {
     "name": "stdout",
     "output_type": "stream",
     "text": [
      "[1.0, 0.0, 0.0, 0.0]\n"
     ]
    }
   ],
   "source": [
    "print(RtoQ(Rmult))"
   ]
  },
  {
   "cell_type": "code",
   "execution_count": 23,
   "id": "54036f1d",
   "metadata": {},
   "outputs": [],
   "source": [
    "#linear interpolation (or lerp)\n",
    "\n",
    "#first box\n",
    "mesh_box_a = o3d.geometry.TriangleMesh.create_box(width=1.0,\n",
    "                                                height=1.0,\n",
    "                                                depth=1.0)\n",
    "mesh_box_a.paint_uniform_color([0.9, 0.1, 0.1])\n",
    "\n",
    "#rotation matrix for a\n",
    "Ra = XYZtoRotationMatrix(0,0,0)\n",
    "\n",
    "#second box that we rotate by 90 degrees around y axis\n",
    "mesh_box_b = o3d.geometry.TriangleMesh.create_box(width=1.0,\n",
    "                                                height=1.0,\n",
    "                                                depth=1.0)\n",
    "mesh_box_b.paint_uniform_color([0.1, 0.1, 0.7])\n",
    "\n",
    "#rotation matrix for b\n",
    "Rb = XYZtoRotationMatrix(0,0,math.pi/4)\n",
    "\n",
    "mesh_box_b.rotate(Rb,center = (0,0,0))\n",
    "\n",
    "#interpolated box\n",
    "mesh_box_c = o3d.geometry.TriangleMesh.create_box(width=1.0,\n",
    "                                                height=1.0,\n",
    "                                                depth=1.0)\n",
    "mesh_box_c.paint_uniform_color([0.1, 0.9, 0.1])\n",
    "\n",
    "#getting quaternions and doing linear interpolation (lerp)\n",
    "qa = RtoQ(Ra)\n",
    "qb = RtoQ(Rb)\n",
    "\n",
    "interp_value = 0.5\n",
    "qc = np.array(qa) + interp_value*(np.array(qb)-np.array(qa))\n",
    "Rc = QtoR(*qc)\n",
    "mesh_box_c.rotate(Rc,center = (0,0,0))\n",
    "\n",
    "\n",
    "#red is original, blue is rotated by pi/4 and green is interpolated\n",
    "o3d.visualization.draw_geometries([mesh_box_a,mesh_box_b,mesh_box_c])"
   ]
  },
  {
   "cell_type": "code",
   "execution_count": 24,
   "id": "3152d5ac",
   "metadata": {},
   "outputs": [],
   "source": [
    "#spherical interpolation (or slerp)\n",
    "\n",
    "#first box\n",
    "mesh_box_a = o3d.geometry.TriangleMesh.create_box(width=1.0,\n",
    "                                                height=1.0,\n",
    "                                                depth=1.0)\n",
    "mesh_box_a.paint_uniform_color([0.9, 0.1, 0.1])\n",
    "\n",
    "#rotation matrix for a\n",
    "Ra = XYZtoRotationMatrix(0,0,0)\n",
    "\n",
    "#second box that we rotate by 90 degrees around y axis\n",
    "mesh_box_b = o3d.geometry.TriangleMesh.create_box(width=1.0,\n",
    "                                                height=1.0,\n",
    "                                                depth=1.0)\n",
    "mesh_box_b.paint_uniform_color([0.1, 0.1, 0.7])\n",
    "\n",
    "#rotation matrix for b\n",
    "Rb = XYZtoRotationMatrix(0,0,math.pi/4)\n",
    "\n",
    "mesh_box_b.rotate(Rb,center = (0,0,0))\n",
    "\n",
    "#interpolated box\n",
    "mesh_box_c = o3d.geometry.TriangleMesh.create_box(width=1.0,\n",
    "                                                height=1.0,\n",
    "                                                depth=1.0)\n",
    "mesh_box_c.paint_uniform_color([0.1, 0.9, 0.1])\n",
    "\n",
    "#getting quaternions and doing linear interpolation (lerp)\n",
    "qa = RtoQ(Ra)\n",
    "qb = RtoQ(Rb)\n",
    "\n",
    "interp_value = 0.5\n",
    "qa = np.array(qa)\n",
    "qb = np.array(qb)\n",
    "qa = qa/np.linalg.norm(qa)\n",
    "qb = qb/np.linalg.norm(qb)\n",
    "\n",
    "angle = math.acos(np.sum(np.multiply(qa,qb)))\n",
    "qc = 0\n",
    "if angle==0:\n",
    "    qc = qa\n",
    "else:\n",
    "    qc = (math.sin((1-interp_value)*angle)*qa + math.sin(interp_value*angle)*qb)/math.sin(angle)\n",
    "qc = qc/np.linalg.norm(qc)\n",
    "Rc = QtoR(*qc)\n",
    "mesh_box_c.rotate(Rc,center = (0,0,0))\n",
    "\n",
    "\n",
    "#red is original, blue is rotated by pi/4 and green is interpolated\n",
    "o3d.visualization.draw_geometries([mesh_box_a,mesh_box_b,mesh_box_c])"
   ]
  },
  {
   "cell_type": "markdown",
   "id": "ba8f5e6e",
   "metadata": {},
   "source": [
    "## c) Exponential maps (Bonus)\n",
    "\n",
    "1. What is the idea behind exponential map representation of rotation matrices?\n",
    "2. Perform matrix exponentiation and obtain the rotation matrix to rotate a vector $P$ around $\\omega$ for $\\theta$ seconds.\n",
    "$$\n",
    "\\omega = \\begin{bmatrix}2 \\\\ 1 \\\\ 15 \\end{bmatrix}\n",
    "$$\n",
    "\n",
    "$$\n",
    "\\theta = 4.1364\n",
    "$$\n",
    "\n",
    "3. Compute the logarithmic map (SO(3) to so(3)) of the rotation matrix to obtain the rotation vector and the angle of rotation\n",
    "$$\n",
    "\\begin{bmatrix}\n",
    "0.1 &  -0.9487 & 0.3 \\\\\n",
    "0.9487 & 0.  & -0.3162 \\\\\n",
    "0.3   &  0.3162  & 0.9 \n",
    "\\end{bmatrix}\n",
    "$$\n",
    "You can use inbuilt libraries **only to verify** your results."
   ]
  },
  {
   "cell_type": "markdown",
   "id": "c23a2769-d56f-4709-b9ea-f6cccf504e4e",
   "metadata": {},
   "source": [
    "### Answers\n",
    "1. It can be seen that rotation matrix R $\\in$ SO(3), can be expressed as R = $e^{[\\hat{w}]\\theta}$ . Here, $e^{[\\hat{w}]\\theta}$ is the exponential coordinate for SO(3). Depticted by a single rotation around one axis which is represented by a 3-D unit vector and scalar angle. So the process of transformation from axis-angle(omega-theta) $\\in$ so(3) to R(rotational matrix) is known as exponential map. \n",
    "<center>exp: so(3) $\\rightarrow$ SO(3) </center>\n",
    "\n",
    "Idea is to use a taylor series expansion to derive a closed-form relation between both the representations."
   ]
  },
  {
   "cell_type": "code",
   "execution_count": 79,
   "id": "bf82e9b2-79da-4650-be10-d9066003c6e2",
   "metadata": {},
   "outputs": [],
   "source": [
    "# Part 2 \n",
    "def exponentialMap(Omega,Theta):\n",
    "    I = [[1,0,0],\n",
    "         [0,1,0],\n",
    "         [0,0,1]]\n",
    "    I = np.array(I)\n",
    "    x = Omega[0]\n",
    "    y = Omega[1]\n",
    "    z = Omega[2]\n",
    "    Axis = [[0,-z,y],\n",
    "            [z,0,-x],\n",
    "            [-y,x,0]]\n",
    "    Axis = np.array(Axis)\n",
    "    \n",
    "    AxisSq = np.matmul(Axis, Axis)\n",
    "    \n",
    "    Axis = math.sin(Theta) * Axis\n",
    "    AxisSq = (1-math.cos(Theta)) * AxisSq\n",
    "    \n",
    "    R = I + Axis + AxisSq\n",
    "    \n",
    "    \n",
    "    \n",
    "    return R.round(3)\n"
   ]
  },
  {
   "cell_type": "code",
   "execution_count": 62,
   "id": "10551d2a-71ed-43a1-9e12-f04ce4fed554",
   "metadata": {},
   "outputs": [
    {
     "name": "stdout",
     "output_type": "stream",
     "text": [
      "[0.1318760946791574, 0.0665164512636101, 0.9999515240970164]\n"
     ]
    }
   ],
   "source": [
    "Omega = [2,1,15]\n",
    "Omega[0] = Omega[0]/math.sqrt((Omega[0]*Omega[0]) + (Omega[1]*Omega[1]) + (Omega[2]*Omega[2]))\n",
    "Omega[1] = Omega[1]/math.sqrt((Omega[0]*Omega[0]) + (Omega[1]*Omega[1]) + (Omega[2]*Omega[2]))\n",
    "Omega[2] = Omega[2]/math.sqrt((Omega[0]*Omega[0]) + (Omega[1]*Omega[1]) + (Omega[2]*Omega[2]))\n",
    "print(Omega)"
   ]
  },
  {
   "cell_type": "code",
   "execution_count": 66,
   "id": "35d504b2-1084-4eb2-985f-4ff20302d566",
   "metadata": {},
   "outputs": [
    {
     "name": "stdout",
     "output_type": "stream",
     "text": [
      "0.001149\n",
      "2.0053833105414847e-05\n"
     ]
    }
   ],
   "source": [
    "Theta = 4.1364 #in seconds\n",
    "Theta = Theta / 3600 #in degrees\n",
    "print(Theta)\n",
    "Theta = Theta * (math.pi/180)\n",
    "print(Theta) # in radians 0.000026005405855 rad"
   ]
  },
  {
   "cell_type": "code",
   "execution_count": 81,
   "id": "f634015e-a143-4bf1-a2cd-ea325fe02bf0",
   "metadata": {},
   "outputs": [
    {
     "name": "stdout",
     "output_type": "stream",
     "text": [
      "[[ 1. -0.  0.]\n",
      " [ 0.  1. -0.]\n",
      " [-0.  0.  1.]]\n"
     ]
    }
   ],
   "source": [
    "print(exponentialMap(Omega,Theta))"
   ]
  },
  {
   "cell_type": "code",
   "execution_count": 55,
   "id": "44ac46e5",
   "metadata": {},
   "outputs": [],
   "source": [
    "# Part 3\n",
    "def LogarithmicMap(R):\n",
    "    traceR = R[0][0] + R[1][1] + R[2][2]\n",
    "    cosTheta = (traceR - 1)/2\n",
    "    sinTheta = math.sqrt((3-traceR) * (1+traceR))/2\n",
    "    Theta = math.asin(sinTheta)\n",
    "    if sinTheta < 0:\n",
    "        Theta = -Theta\n",
    "            \n",
    "    R = np.array(R) \n",
    "    R_T = np.transpose(R)\n",
    "          \n",
    "    \n",
    "    if Theta == 0:\n",
    "        print(\"AnyAxis\")\n",
    "        Omega = [0,0,0]\n",
    "    elif sinTheta == 0:\n",
    "            Omega = np.array([math.sqrt((R[0][0]+1)/2) , math.sqrt((R[1][1]+1)/2), math.sqrt((R[2][2]+1)/2)])\n",
    "            Theta = math.pi\n",
    "            print(\"180 degrees\")\n",
    "    else:\n",
    "        C2 = 1/(2*sinTheta)\n",
    "        w = np.array([R[2][1] - R[1][2], R[0][2] - R[2][0], R[1][0] - R[0][1]])\n",
    "        Omega = C2 * w\n",
    "        \n",
    "    return Theta, Omega;"
   ]
  },
  {
   "cell_type": "code",
   "execution_count": 54,
   "id": "28222ba2-2003-4a3a-9451-67d4c3dd3526",
   "metadata": {},
   "outputs": [
    {
     "name": "stdout",
     "output_type": "stream",
     "text": [
      "(1.5707963267948966, array([0.3162, 0.    , 0.9487]))\n"
     ]
    }
   ],
   "source": [
    "RR = [[0.1, -0.9487, 0.3], \n",
    "     [0.9487, 0, -0.3162], \n",
    "     [0.3, 0.3162, 0.9]]\n",
    "print(LogarithmicMap(RR))"
   ]
  },
  {
   "cell_type": "markdown",
   "id": "c70e6a54",
   "metadata": {},
   "source": [
    "# 3. Data representations"
   ]
  },
  {
   "cell_type": "markdown",
   "id": "82ead278",
   "metadata": {},
   "source": [
    "## a) Octomaps\n",
    "\n",
    "1. Why is an Octomap memory efficient?\n",
    "2. When do we update an Octomap and why?\n",
    "3. When would you likely use an octomap instead of a point cloud?\n",
    " "
   ]
  },
  {
   "cell_type": "markdown",
   "id": "ee583dd8-f801-4ed8-8f97-1a47213ed5b1",
   "metadata": {},
   "source": [
    "1. Mappings are needed to be efficient as mpas are an integral part of automation systems for planning and navigation. Therefore,  these octomaps are required to memory-efficient to map large environments. \n",
    "2. We can add new information from sensors at any point of time as the updation is done is a probablistic manner. The updates are only done on the leaf nodes.\n",
    "3. Octomaps are preferred over point clouds when we are dealing with large and dynamic regions as they are able to probablistically update multiple measurments as they are computed. Secondly, point clouds aren't memory efficient as they store large amount of points. Thirdly, octomaps are preferred when we are dealing with regions with obstaclees as they can differenciate between regions that are unmapped and regions aren don't have any obstacles.\n"
   ]
  },
  {
   "cell_type": "markdown",
   "id": "a0e668bf",
   "metadata": {},
   "source": [
    "## b) Signed Distance Functions\n",
    "\n",
    "1. How do we determine object surfaces using SDF?\n",
    "2. How do we aggregate views from multiple cameras? (just a general overview is fine)\n",
    "3. Which preserves details better? Voxels or SDF? Why?\n",
    "4. What’s an advantage of SDF over a point cloud?\n"
   ]
  },
  {
   "cell_type": "markdown",
   "id": "aa12a1d9-2c73-4658-b6df-a97d7643ef43",
   "metadata": {},
   "source": [
    "1. SDF(signed distance fields) are used to describe volume of an object. In a metric space, it is used to identift the distance of a given point from its boundary. They are marked by positive values inside the object and progressively decreases when moving towards the boundary and finally reaches zero, So when the SDF value is zero(zero-crossing while interpolation), we can conclude that it refers to the object surface.\n",
    "<br>\n",
    "2. To aggregate and update views, we fuse the infomation similar to probablity based approach. We do a weighted average where we have distance computed from a particular voxel to surface as seen from that particular camera view. This process is done for each and every voxel present in the scene.\n",
    "\n",
    "3. SDF is better due to the following reasons: \n",
    "    a. Noise gets averaged out with multiple measurements thus giving better details\n",
    "    b. We can get a sub voxel accuracy using least squares estimate\n",
    "<br>\n",
    "4. SDF is preferred over point cloud as it is more useful in planning as essentially store distances from surface. It is time and storage efficient as truncation saves space(values outside support of weigt functin wont be stored)."
   ]
  },
  {
   "cell_type": "markdown",
   "id": "42b7827d",
   "metadata": {},
   "source": [
    "# References and Resources\n",
    "\n",
    "1. Gimbal locks and quaternions: https://youtu.be/YF5ZUlKxSgE\n",
    "2. Exponential map: \n",
    "    1. 3 Blue 1 Brown: https://youtu.be/O85OWBJ2ayo\n",
    "    2. Northwestern Robotics: https://youtu.be/v_KBHaG0mas\n",
    "3. Bunny ply is taken from: http://graphics.im.ntu.edu.tw/~robin/courses/cg03/model/"
   ]
  }
 ],
 "metadata": {
  "kernelspec": {
   "display_name": "Python 3",
   "language": "python",
   "name": "python3"
  },
  "language_info": {
   "codemirror_mode": {
    "name": "ipython",
    "version": 3
   },
   "file_extension": ".py",
   "mimetype": "text/x-python",
   "name": "python",
   "nbconvert_exporter": "python",
   "pygments_lexer": "ipython3",
   "version": "3.6.9"
  }
 },
 "nbformat": 4,
 "nbformat_minor": 5
}
